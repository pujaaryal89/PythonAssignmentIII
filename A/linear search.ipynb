{
 "cells": [
  {
   "cell_type": "code",
   "execution_count": 12,
   "metadata": {},
   "outputs": [
    {
     "name": "stdout",
     "output_type": "stream",
     "text": [
      "Enter the key5\n",
      "5\n"
     ]
    }
   ],
   "source": [
    "def linear_search(list,key):\n",
    "    for i in range(len(list)):\n",
    "        if key==list[i]:\n",
    "            print(\"Key element is found\")\n",
    "            break\n",
    "        else:\n",
    "            print(\"key element not found\")\n",
    "    return key        \n",
    "        \n",
    "       \n",
    "\n",
    "\n",
    "list=[10,5,6,7,8]\n",
    "key=int(input(\"Enter the key\"))\n"
   ]
  },
  {
   "cell_type": "code",
   "execution_count": null,
   "metadata": {},
   "outputs": [],
   "source": []
  }
 ],
 "metadata": {
  "kernelspec": {
   "display_name": "Python 3",
   "language": "python",
   "name": "python3"
  },
  "language_info": {
   "codemirror_mode": {
    "name": "ipython",
    "version": 3
   },
   "file_extension": ".py",
   "mimetype": "text/x-python",
   "name": "python",
   "nbconvert_exporter": "python",
   "pygments_lexer": "ipython3",
   "version": "3.7.6"
  }
 },
 "nbformat": 4,
 "nbformat_minor": 4
}
