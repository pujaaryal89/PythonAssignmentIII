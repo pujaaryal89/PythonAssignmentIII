{
 "cells": [
  {
   "cell_type": "code",
   "execution_count": 8,
   "metadata": {},
   "outputs": [
    {
     "name": "stdout",
     "output_type": "stream",
     "text": [
      "[2, 5, 6, 10, 15, 17]\n"
     ]
    }
   ],
   "source": [
    "def insertion_sort(my_list):\n",
    "    for index in range(1,len(my_list)):\n",
    "        current_element=my_list[index]\n",
    "        pos=index\n",
    "        while current_element<my_list[pos-1] and pos>0:\n",
    "            my_list[pos]=my_list[pos-1]\n",
    "            pos=pos-1\n",
    "        my_list[pos]=current_element\n",
    "        \n",
    "list=[5,10,2,15,17,6]\n",
    "insertion_sort(list)\n",
    "print(list)\n",
    "        "
   ]
  },
  {
   "cell_type": "code",
   "execution_count": 9,
   "metadata": {},
   "outputs": [
    {
     "name": "stdout",
     "output_type": "stream",
     "text": [
      "[17, 15, 10, 6, 5, 2]\n"
     ]
    }
   ],
   "source": [
    "def insertion_sort(my_list):\n",
    "    for index in range(1,len(my_list)):\n",
    "        current_element=my_list[index]\n",
    "        pos=index\n",
    "        while current_element>my_list[pos-1] and pos>0:\n",
    "            my_list[pos]=my_list[pos-1]\n",
    "            pos=pos-1\n",
    "        my_list[pos]=current_element\n",
    "        \n",
    "list=[5,10,2,15,17,6]\n",
    "insertion_sort(list)\n",
    "print(list)"
   ]
  },
  {
   "cell_type": "code",
   "execution_count": null,
   "metadata": {},
   "outputs": [],
   "source": []
  }
 ],
 "metadata": {
  "kernelspec": {
   "display_name": "Python 3",
   "language": "python",
   "name": "python3"
  },
  "language_info": {
   "codemirror_mode": {
    "name": "ipython",
    "version": 3
   },
   "file_extension": ".py",
   "mimetype": "text/x-python",
   "name": "python",
   "nbconvert_exporter": "python",
   "pygments_lexer": "ipython3",
   "version": "3.7.6"
  }
 },
 "nbformat": 4,
 "nbformat_minor": 4
}
