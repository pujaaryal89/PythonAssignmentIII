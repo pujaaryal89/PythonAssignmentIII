{
 "cells": [
  {
   "cell_type": "code",
   "execution_count": 8,
   "metadata": {},
   "outputs": [
    {
     "name": "stdout",
     "output_type": "stream",
     "text": [
      "unsorted list: [10, 15, 4, 23, 0]\n",
      "[10, 15, 4, 23, 0]\n",
      "[10, 4, 15, 23, 0]\n",
      "[10, 4, 15, 23, 0]\n",
      "[10, 4, 15, 0, 23]\n",
      "[4, 10, 15, 0, 23]\n",
      "[4, 10, 15, 0, 23]\n",
      "[4, 10, 0, 15, 23]\n",
      "[4, 10, 0, 15, 23]\n",
      "[4, 10, 0, 15, 23]\n",
      "[4, 0, 10, 15, 23]\n",
      "[4, 0, 10, 15, 23]\n",
      "[4, 0, 10, 15, 23]\n",
      "[0, 4, 10, 15, 23]\n",
      "[0, 4, 10, 15, 23]\n",
      "[0, 4, 10, 15, 23]\n",
      "[0, 4, 10, 15, 23]\n",
      "sorted list: [0, 4, 10, 15, 23]\n"
     ]
    }
   ],
   "source": [
    "list1=[10,15,4,23,0]\n",
    "print(\"unsorted list:\",list1)\n",
    "for j in range(len(list1)-1):\n",
    "    for i in range(len(list1)-1):\n",
    "        if list1[i]>list1[i+1]:\n",
    "            list1[i],list1[i+1]=list1[i+1],list1[i]\n",
    "            print(list1)\n",
    "        else:\n",
    "            print(list1)\n",
    "print(\"sorted list:\",list1)  \n"
   ]
  },
  {
   "cell_type": "code",
   "execution_count": 9,
   "metadata": {},
   "outputs": [
    {
     "name": "stdout",
     "output_type": "stream",
     "text": [
      "unsorted list: [10, 15, 4, 23, 0]\n",
      "[15, 10, 4, 23, 0]\n",
      "[15, 10, 4, 23, 0]\n",
      "[15, 10, 23, 4, 0]\n",
      "[15, 10, 23, 4, 0]\n",
      "[15, 10, 23, 4, 0]\n",
      "[15, 23, 10, 4, 0]\n",
      "[15, 23, 10, 4, 0]\n",
      "[15, 23, 10, 4, 0]\n",
      "[23, 15, 10, 4, 0]\n",
      "[23, 15, 10, 4, 0]\n",
      "[23, 15, 10, 4, 0]\n",
      "[23, 15, 10, 4, 0]\n",
      "[23, 15, 10, 4, 0]\n",
      "[23, 15, 10, 4, 0]\n",
      "[23, 15, 10, 4, 0]\n",
      "[23, 15, 10, 4, 0]\n",
      "sorted list: [23, 15, 10, 4, 0]\n"
     ]
    }
   ],
   "source": [
    "list1=[10,15,4,23,0]\n",
    "print(\"unsorted list:\",list1)\n",
    "for j in range(len(list1)-1):\n",
    "    for i in range(len(list1)-1):\n",
    "        if list1[i]<list1[i+1]:\n",
    "            list1[i],list1[i+1]=list1[i+1],list1[i]\n",
    "            print(list1)\n",
    "        else:\n",
    "            print(list1)\n",
    "print(\"sorted list:\",list1)  "
   ]
  },
  {
   "cell_type": "code",
   "execution_count": null,
   "metadata": {},
   "outputs": [],
   "source": []
  }
 ],
 "metadata": {
  "kernelspec": {
   "display_name": "Python 3",
   "language": "python",
   "name": "python3"
  },
  "language_info": {
   "codemirror_mode": {
    "name": "ipython",
    "version": 3
   },
   "file_extension": ".py",
   "mimetype": "text/x-python",
   "name": "python",
   "nbconvert_exporter": "python",
   "pygments_lexer": "ipython3",
   "version": "3.7.6"
  }
 },
 "nbformat": 4,
 "nbformat_minor": 4
}
