{
 "cells": [
  {
   "cell_type": "code",
   "execution_count": 4,
   "metadata": {},
   "outputs": [
    {
     "name": "stdout",
     "output_type": "stream",
     "text": [
      "unsorted list: [50, 20, 10, 60, 100, 200]\n",
      "sorted list: [10, 20, 50, 60, 100, 200]\n"
     ]
    }
   ],
   "source": [
    "#to get correct position of pivot element\n",
    "\n",
    "def pivot_place(list1,first,last):\n",
    "    pivot=list1[first]\n",
    "    left=first+1\n",
    "    right=last\n",
    "    \n",
    "    while True:\n",
    "        while left<=right and list1[left]<=pivot:\n",
    "            left=left+1\n",
    "        while left<=right and list1[right]>=pivot:\n",
    "            right=right-1  \n",
    "            \n",
    "        if right<left:\n",
    "            break\n",
    "        else:\n",
    "            list1[left],list1[right]=list1[right],list1[left]\n",
    "            \n",
    "    list1[first],list1[right]=list1[right],list1[first]   \n",
    "    return right\n",
    "\n",
    "def quicksort(list1,first,last):\n",
    "    if first<last:\n",
    "        p=pivot_place(list1,first,last)\n",
    "        quicksort(list1,first,p-1)\n",
    "        quicksort(list1,p+1,last)\n",
    "        \n",
    "list1=[50,20,10,60,100,200] \n",
    "print(\"unsorted list:\",list1)\n",
    "n=len(list1)\n",
    "quicksort(list1,0,n-1)\n",
    "print(\"sorted list:\",list1)\n",
    "        \n",
    "    \n",
    "        "
   ]
  },
  {
   "cell_type": "code",
   "execution_count": null,
   "metadata": {},
   "outputs": [],
   "source": []
  }
 ],
 "metadata": {
  "kernelspec": {
   "display_name": "Python 3",
   "language": "python",
   "name": "python3"
  },
  "language_info": {
   "codemirror_mode": {
    "name": "ipython",
    "version": 3
   },
   "file_extension": ".py",
   "mimetype": "text/x-python",
   "name": "python",
   "nbconvert_exporter": "python",
   "pygments_lexer": "ipython3",
   "version": "3.7.6"
  }
 },
 "nbformat": 4,
 "nbformat_minor": 4
}
