{
 "cells": [
  {
   "cell_type": "code",
   "execution_count": null,
   "metadata": {},
   "outputs": [],
   "source": [
    "def InterpolationSearch(lys, val):\n",
    "    low = 0\n",
    "    high = (len(lys) - 1)\n",
    "    while low <= high and val >= lys[low] and val <= lys[high]:\n",
    "        index = low + int(((float(high - low) / ( lys[high] - lys[low])) * ( val - lys[low])))\n",
    "        if lys[index] == val:\n",
    "            return index\n",
    "        if lys[index] < val:\n",
    "            low = index + 1;\n",
    "        else:\n",
    "            high = index - 1;\n",
    "    return -1\n",
    "\n",
    "Interpolat"
   ]
  }
 ],
 "metadata": {
  "kernelspec": {
   "display_name": "Python 3",
   "language": "python",
   "name": "python3"
  },
  "language_info": {
   "codemirror_mode": {
    "name": "ipython",
    "version": 3
   },
   "file_extension": ".py",
   "mimetype": "text/x-python",
   "name": "python",
   "nbconvert_exporter": "python",
   "pygments_lexer": "ipython3",
   "version": "3.7.6"
  }
 },
 "nbformat": 4,
 "nbformat_minor": 4
}
